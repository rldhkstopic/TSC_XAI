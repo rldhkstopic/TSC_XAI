{
 "cells": [
  {
   "cell_type": "code",
   "execution_count": 1,
   "metadata": {},
   "outputs": [],
   "source": [
    "import json\n",
    "\n",
    "with open('dataset/LPI12 dataset.json', 'r') as f:\n",
    "        TrainData = json.load(f)"
   ]
  },
  {
   "cell_type": "code",
   "execution_count": 3,
   "metadata": {},
   "outputs": [
    {
     "name": "stdout",
     "output_type": "stream",
     "text": [
      "Data loading for 'Barker'.....Done!\n",
      "Data loading for 'Costas'.....Done!\n",
      "Data loading for 'Frank'.....Done!\n",
      "Data loading for 'LFM'.....Done!\n",
      "Data loading for 'P1'.....Done!\n",
      "Data loading for 'P2'.....Done!\n",
      "Data loading for 'P3'.....Done!\n",
      "Data loading for 'P4'.....Done!\n",
      "Data loading for 'T1'.....Done!\n",
      "Data loading for 'T2'.....Done!\n",
      "Data loading for 'T3'.....Done!\n",
      "Data loading for 'T4'.....Done!\n"
     ]
    },
    {
     "ename": "",
     "evalue": "",
     "output_type": "error",
     "traceback": [
      "\u001b[1;31m현재 셀 또는 이전 셀에서 코드를 실행하는 동안 Kernel이 충돌했습니다. 셀의 코드를 검토하여 오류의 가능한 원인을 식별하세요. 자세한 내용을 보려면 <a href='https://aka.ms/vscodeJupyterKernelCrash'> 여기 </a> 를 클릭하세요. 자세한 내용은 Jupyter <a href='command:jupyter.viewOutput'>로그</a>를 참조하세요."
     ]
    }
   ],
   "source": [
    "import models._config as c\n",
    "\n",
    "from dataset.RadarDataset import RadarSignalDataset\n",
    "\n",
    "train_dataset = RadarSignalDataset(TrainData, c.signalTypes[0:c.typeSize], snr_max=17)\n"
   ]
  },
  {
   "cell_type": "code",
   "execution_count": 2,
   "metadata": {},
   "outputs": [
    {
     "ename": "KeyboardInterrupt",
     "evalue": "",
     "output_type": "error",
     "traceback": [
      "\u001b[0;31m---------------------------------------------------------------------------\u001b[0m",
      "\u001b[0;31mKeyboardInterrupt\u001b[0m                         Traceback (most recent call last)",
      "Cell \u001b[0;32mIn[2], line 8\u001b[0m\n\u001b[1;32m      5\u001b[0m \u001b[39mimport\u001b[39;00m \u001b[39mmatplotlib\u001b[39;00m\u001b[39m.\u001b[39;00m\u001b[39mpyplot\u001b[39;00m \u001b[39mas\u001b[39;00m \u001b[39mplt\u001b[39;00m\n\u001b[1;32m      7\u001b[0m \u001b[39mwith\u001b[39;00m \u001b[39mopen\u001b[39m(\u001b[39m'\u001b[39m\u001b[39mdataset/LPI12 dataset.json\u001b[39m\u001b[39m'\u001b[39m, \u001b[39m'\u001b[39m\u001b[39mr\u001b[39m\u001b[39m'\u001b[39m) \u001b[39mas\u001b[39;00m f:\n\u001b[0;32m----> 8\u001b[0m         TrainData \u001b[39m=\u001b[39m json\u001b[39m.\u001b[39mload(f)\n\u001b[1;32m     10\u001b[0m train_dataset \u001b[39m=\u001b[39m RadarSignalDataset(TrainData, c\u001b[39m.\u001b[39msignalTypes[\u001b[39m0\u001b[39m:c\u001b[39m.\u001b[39mtypeSize], snr_max\u001b[39m=\u001b[39m\u001b[39m17\u001b[39m)\n\u001b[1;32m     12\u001b[0m \u001b[39m# 각 클래스별로 몇 개의 신호를 시각화할 것인지 설정\u001b[39;00m\n",
      "File \u001b[0;32m~/anaconda3/lib/python3.11/json/__init__.py:293\u001b[0m, in \u001b[0;36mload\u001b[0;34m(fp, cls, object_hook, parse_float, parse_int, parse_constant, object_pairs_hook, **kw)\u001b[0m\n\u001b[1;32m    274\u001b[0m \u001b[39mdef\u001b[39;00m \u001b[39mload\u001b[39m(fp, \u001b[39m*\u001b[39m, \u001b[39mcls\u001b[39m\u001b[39m=\u001b[39m\u001b[39mNone\u001b[39;00m, object_hook\u001b[39m=\u001b[39m\u001b[39mNone\u001b[39;00m, parse_float\u001b[39m=\u001b[39m\u001b[39mNone\u001b[39;00m,\n\u001b[1;32m    275\u001b[0m         parse_int\u001b[39m=\u001b[39m\u001b[39mNone\u001b[39;00m, parse_constant\u001b[39m=\u001b[39m\u001b[39mNone\u001b[39;00m, object_pairs_hook\u001b[39m=\u001b[39m\u001b[39mNone\u001b[39;00m, \u001b[39m*\u001b[39m\u001b[39m*\u001b[39mkw):\n\u001b[1;32m    276\u001b[0m \u001b[39m    \u001b[39m\u001b[39m\"\"\"Deserialize ``fp`` (a ``.read()``-supporting file-like object containing\u001b[39;00m\n\u001b[1;32m    277\u001b[0m \u001b[39m    a JSON document) to a Python object.\u001b[39;00m\n\u001b[1;32m    278\u001b[0m \n\u001b[0;32m   (...)\u001b[0m\n\u001b[1;32m    291\u001b[0m \u001b[39m    kwarg; otherwise ``JSONDecoder`` is used.\u001b[39;00m\n\u001b[1;32m    292\u001b[0m \u001b[39m    \"\"\"\u001b[39;00m\n\u001b[0;32m--> 293\u001b[0m     \u001b[39mreturn\u001b[39;00m loads(fp\u001b[39m.\u001b[39mread(),\n\u001b[1;32m    294\u001b[0m         \u001b[39mcls\u001b[39m\u001b[39m=\u001b[39m\u001b[39mcls\u001b[39m, object_hook\u001b[39m=\u001b[39mobject_hook,\n\u001b[1;32m    295\u001b[0m         parse_float\u001b[39m=\u001b[39mparse_float, parse_int\u001b[39m=\u001b[39mparse_int,\n\u001b[1;32m    296\u001b[0m         parse_constant\u001b[39m=\u001b[39mparse_constant, object_pairs_hook\u001b[39m=\u001b[39mobject_pairs_hook, \u001b[39m*\u001b[39m\u001b[39m*\u001b[39mkw)\n",
      "File \u001b[0;32m<frozen codecs>:322\u001b[0m, in \u001b[0;36mdecode\u001b[0;34m(self, input, final)\u001b[0m\n",
      "\u001b[0;31mKeyboardInterrupt\u001b[0m: "
     ]
    }
   ],
   "source": [
    "\n",
    "import matplotlib.pyplot as plt\n",
    "\n",
    "# 각 클래스별로 몇 개의 신호를 시각화할 것인지 설정\n",
    "samples_per_class = 1\n",
    "\n",
    "# 클래스별로 데이터 인덱스를 저장할 딕셔너리 초기화\n",
    "class_samples = {signal_type: [] for signal_type in set(train_dataset.labels)}\n",
    "\n",
    "# 각 클래스별로 필요한 수만큼의 샘플 수집\n",
    "for idx in range(len(train_dataset)):\n",
    "    _, label, _, _ = train_dataset[idx]\n",
    "    if len(class_samples[label]) < samples_per_class:\n",
    "        class_samples[label].append(idx)\n",
    "    # 모든 클래스의 샘플 수집이 완료되면 종료\n",
    "    if all(len(samples) == samples_per_class for samples in class_samples.values()):\n",
    "        break\n",
    "\n",
    "# 각 클래스별로 수집한 샘플을 시각화\n",
    "for label, indices in class_samples.items():\n",
    "    fig, axes = plt.subplots(len(indices), 2, figsize=(12, 3 * len(indices)))\n",
    "    fig.suptitle(f'Signal Visualization for Class: {label}', fontsize=16)\n",
    "\n",
    "    for i, idx in enumerate(indices):\n",
    "        data_sample, _, snr = train_dataset[idx]\n",
    "        \n",
    "        # 실수부와 허수부 추출\n",
    "        real_part = [point[0] for point in data_sample]\n",
    "        imag_part = [point[1] for point in data_sample]\n",
    "\n",
    "        # 실수부 플롯\n",
    "        axes[i, 0].plot(real_part)\n",
    "        axes[i, 0].set_title(f'Real Part (SNR: {snr} dB)')\n",
    "        axes[i, 0].set_xlabel('Time Step')\n",
    "        axes[i, 0].set_ylabel('Amplitude')\n",
    "\n",
    "        # 허수부 플롯\n",
    "        axes[i, 1].plot(imag_part)\n",
    "        axes[i, 1].set_title(f'Imaginary Part (SNR: {snr} dB)')\n",
    "        axes[i, 1].set_xlabel('Time Step')\n",
    "        axes[i, 1].set_ylabel('Amplitude')\n",
    "\n",
    "    plt.tight_layout(rect=[0, 0, 1, 0.96])\n",
    "    plt.show()\n",
    "    \n",
    "\n",
    "\n"
   ]
  }
 ],
 "metadata": {
  "language_info": {
   "name": "python"
  }
 },
 "nbformat": 4,
 "nbformat_minor": 2
}
