{
 "cells": [
  {
   "cell_type": "code",
   "execution_count": 2,
   "metadata": {},
   "outputs": [],
   "source": [
    "import os\n",
    "import re\n",
    "import torch\n",
    "import glob\n",
    "import numpy as np\n",
    "import pandas as pd\n",
    "import torch.optim as optim\n",
    "import matplotlib.pyplot as plt\n",
    "from RadarDataset import RadarDataset\n",
    "from TripletConvolution import TCN, trainTCN"
   ]
  },
  {
   "cell_type": "code",
   "execution_count": 47,
   "metadata": {
    "slideshow": {
     "slide_type": "slide"
    }
   },
   "outputs": [],
   "source": [
    "device = torch.device(\"cuda:1\" if torch.cuda.is_available() else \"cpu\")\n",
    "torch.cuda.set_device(device)\n",
    "\n",
    "signalTypes = ['Barker', 'Costas', 'Frank', 'LFM', 'P1', 'P2', 'P3', 'P4', 'T1', 'T2', 'T3', 'T4']\n",
    "TransformedTypes = {'DWT' : \"/data/kiwan/Unknown_radar_detection/Adaptive_wavelet_transform/dataset-SPWVD-denoised-Adaptive_DWT\",\n",
    "                    'CWD' : \"/data/kiwan/Unknown_radar_detection/Adaptive_wavelet_transform/240523_CWD-v1/\",\n",
    "                    'SAFI' : \"/data/kiwan/Unknown_radar_detection/Adaptive_wavelet_transform/240523_SAFI-v1/\",}\n",
    "RawType = \"/data/kiwan/dataset-CWD-50/\"\n",
    "\n",
    "signal_groups = {'v0': ['Barker', 'Costas', 'Frank', 'LFM', 'P1', 'P2', 'P3', 'P4'], 'v0i' : [0, 1, 2, 3, 4, 5, 6, 7],\n",
    "                 'v1': ['Barker', 'Costas', 'Frank', 'LFM', 'T1', 'T2', 'T3', 'T4'], 'v1i' : [0, 1, 2, 3, 8, 9, 10, 11],\n",
    "                 'v2': ['Barker', 'Costas', 'Frank', 'LFM', 'P1', 'P2', 'T3', 'T4'], 'v2i' : [0, 1, 2, 3, 4, 5, 10, 11],\n",
    "                 'v3': ['Barker', 'Costas', 'Frank', 'LFM', 'P3', 'P4', 'T1', 'T2'], 'v3i' : [0, 1, 2, 3, 6, 7, 8, 9],}"
   ]
  },
  {
   "cell_type": "code",
   "execution_count": 3,
   "metadata": {},
   "outputs": [],
   "source": [
    "transform = 'SAFI'\n",
    "Dataset = RadarDataset(TransformedTypes[transform], signalTypes)"
   ]
  },
  {
   "cell_type": "code",
   "execution_count": 52,
   "metadata": {},
   "outputs": [],
   "source": [
    "import re\n",
    "import os\n",
    "import glob\n",
    "\n",
    "data_list = {}\n",
    "fig_size = 5\n",
    "\n",
    "for signal in signalTypes:\n",
    "    signal_csvs = glob.glob(os.path.join(RawType, signal, '*.csv'))\n",
    "    for signal_csv in signal_csvs:\n",
    "        match = re.search(r'snr-?(\\d+)', signal_csv)\n",
    "        csv_snr = int(match.group(1)) if match else None\n",
    "        \n",
    "        data_iq = [complex(iq.replace('i', 'j')) for iq in np.array(pd.read_csv(signal_csv, header=None)).flatten()]\n",
    "        data_real, data_img = zip(*[(iq.real, iq.imag) for iq in data_iq])\n",
    "        data_list.setdefault(signal, {}).setdefault(csv_snr, []).append((data_real, data_img)) # {10: [('Barker', 10, '/data/kiwan/dataset-CWD-50/Barker/barker-snr-10-no00001.csv'), ...]}\n",
    "        \n",
    "\n",
    "\"\"\"\n",
    "snr_max = 16\n",
    "signalGroup = signal_groups['v0']\n",
    "fig, axs = plt.subplots(len(signalGroup), len(range(0, snr_max+1, 2)), figsize=(25, len(signalGroup)//2 * 5))\n",
    "for sI, signal in enumerate(signalGroup):\n",
    "    for snI, snr in enumerate(range(0, snr_max+1, 2)):\n",
    "        data_csv = pd.read_csv(data_list[signal][snr][0], header=None)\n",
    "        \n",
    "        data_iq = [complex(iq.replace('i', 'j')) for iq in np.array(data_csv).flatten()]\n",
    "        data_real, data_img = zip(*[(iq.real, iq.imag) for iq in data_iq])\n",
    "        \n",
    "        axs[sI, snI].plot(data_real, label='real', color='blue', alpha=0.5)\n",
    "        axs[sI, snI].plot(data_img, label='imag', color='red', alpha=0.5, linestyle='--')\n",
    "        axs[sI, snI].set_xlabel('Sample')\n",
    "        axs[sI, snI].set_ylabel('Amplitude')\n",
    "        axs[sI, snI].set_title(f\"{signal} (SNR: -{snr}dB)\")\n",
    "        axs[sI, snI].grid(True)\n",
    "        axs[sI, snI].legend()\n",
    "\n",
    "plt.tight_layout()\n",
    "plt.show()\n",
    "\"\"\""
   ]
  },
  {
   "cell_type": "code",
   "execution_count": null,
   "metadata": {},
   "outputs": [],
   "source": []
  },
  {
   "cell_type": "code",
   "execution_count": null,
   "metadata": {},
   "outputs": [],
   "source": []
  }
 ],
 "metadata": {
  "language_info": {
   "name": "python"
  }
 },
 "nbformat": 4,
 "nbformat_minor": 2
}
